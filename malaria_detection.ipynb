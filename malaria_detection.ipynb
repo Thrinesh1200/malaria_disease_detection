{
 "cells": [
  {
   "cell_type": "markdown",
   "metadata": {},
   "source": [
    "## Creating CNN Using Scratch And Transfer Learning"
   ]
  },
  {
   "cell_type": "markdown",
   "metadata": {},
   "source": [
    "Please download the dataset from the below url"
   ]
  },
  {
   "cell_type": "code",
   "execution_count": 1,
   "metadata": {},
   "outputs": [],
   "source": [
    "# import the libraries as shown below\n",
    "\n",
    "from tensorflow.keras.layers import Input, Lambda, Dense, Flatten,Conv2D\n",
    "from tensorflow.keras.models import Model\n",
    "from tensorflow.keras.applications.vgg19 import VGG19\n",
    "from tensorflow.keras.applications.resnet50 import preprocess_input\n",
    "from tensorflow.keras.preprocessing import image\n",
    "from tensorflow.keras.preprocessing.image import ImageDataGenerator,load_img\n",
    "from tensorflow.keras.models import Sequential\n",
    "import numpy as np\n",
    "from glob import glob\n",
    "import matplotlib.pyplot as plt"
   ]
  },
  {
   "cell_type": "code",
   "execution_count": 2,
   "metadata": {},
   "outputs": [],
   "source": [
    "# re-size all the images to this\n",
    "IMAGE_SIZE = [224, 224]\n",
    "\n",
    "train_path = 'Dataset/Dataset/Train'\n",
    "valid_path = 'Dtaset/Dataset/Test'\n"
   ]
  },
  {
   "cell_type": "code",
   "execution_count": 3,
   "metadata": {},
   "outputs": [
    {
     "name": "stdout",
     "output_type": "stream",
     "text": [
      "Downloading data from https://storage.googleapis.com/tensorflow/keras-applications/vgg19/vgg19_weights_tf_dim_ordering_tf_kernels_notop.h5\n",
      "80142336/80134624 [==============================] - 14s 0us/step\n"
     ]
    }
   ],
   "source": [
    "# Import the Vgg 16 library as shown below and add preprocessing layer to the front of VGG\n",
    "# Here we will be using imagenet weights\n",
    "\n",
    "mobilnet = VGG19(input_shape=IMAGE_SIZE + [3], weights='imagenet', include_top=False)\n",
    "\n",
    "\n"
   ]
  },
  {
   "cell_type": "code",
   "execution_count": 4,
   "metadata": {},
   "outputs": [],
   "source": [
    "# don't train existing weights\n",
    "for layer in mobilnet.layers:\n",
    "    layer.trainable = False"
   ]
  },
  {
   "cell_type": "code",
   "execution_count": 5,
   "metadata": {},
   "outputs": [],
   "source": [
    "  # useful for getting number of output classes\n",
    "folders = glob('Dataset/Dataset/Train/*')"
   ]
  },
  {
   "cell_type": "code",
   "execution_count": 6,
   "metadata": {},
   "outputs": [
    {
     "data": {
      "text/plain": [
       "['Dataset/Dataset/Train\\\\Parasite', 'Dataset/Dataset/Train\\\\Uninfected']"
      ]
     },
     "execution_count": 6,
     "metadata": {},
     "output_type": "execute_result"
    }
   ],
   "source": [
    "folders"
   ]
  },
  {
   "cell_type": "code",
   "execution_count": 7,
   "metadata": {},
   "outputs": [],
   "source": [
    "# our layers - you can add more if you want\n",
    "x = Flatten()(mobilnet.output)"
   ]
  },
  {
   "cell_type": "code",
   "execution_count": 8,
   "metadata": {},
   "outputs": [],
   "source": [
    "prediction = Dense(len(folders), activation='softmax')(x)\n",
    "\n",
    "# create a model object\n",
    "model = Model(inputs=mobilnet.input, outputs=prediction)"
   ]
  },
  {
   "cell_type": "code",
   "execution_count": 9,
   "metadata": {},
   "outputs": [
    {
     "name": "stdout",
     "output_type": "stream",
     "text": [
      "Model: \"model\"\n",
      "_________________________________________________________________\n",
      "Layer (type)                 Output Shape              Param #   \n",
      "=================================================================\n",
      "input_1 (InputLayer)         [(None, 224, 224, 3)]     0         \n",
      "_________________________________________________________________\n",
      "block1_conv1 (Conv2D)        (None, 224, 224, 64)      1792      \n",
      "_________________________________________________________________\n",
      "block1_conv2 (Conv2D)        (None, 224, 224, 64)      36928     \n",
      "_________________________________________________________________\n",
      "block1_pool (MaxPooling2D)   (None, 112, 112, 64)      0         \n",
      "_________________________________________________________________\n",
      "block2_conv1 (Conv2D)        (None, 112, 112, 128)     73856     \n",
      "_________________________________________________________________\n",
      "block2_conv2 (Conv2D)        (None, 112, 112, 128)     147584    \n",
      "_________________________________________________________________\n",
      "block2_pool (MaxPooling2D)   (None, 56, 56, 128)       0         \n",
      "_________________________________________________________________\n",
      "block3_conv1 (Conv2D)        (None, 56, 56, 256)       295168    \n",
      "_________________________________________________________________\n",
      "block3_conv2 (Conv2D)        (None, 56, 56, 256)       590080    \n",
      "_________________________________________________________________\n",
      "block3_conv3 (Conv2D)        (None, 56, 56, 256)       590080    \n",
      "_________________________________________________________________\n",
      "block3_conv4 (Conv2D)        (None, 56, 56, 256)       590080    \n",
      "_________________________________________________________________\n",
      "block3_pool (MaxPooling2D)   (None, 28, 28, 256)       0         \n",
      "_________________________________________________________________\n",
      "block4_conv1 (Conv2D)        (None, 28, 28, 512)       1180160   \n",
      "_________________________________________________________________\n",
      "block4_conv2 (Conv2D)        (None, 28, 28, 512)       2359808   \n",
      "_________________________________________________________________\n",
      "block4_conv3 (Conv2D)        (None, 28, 28, 512)       2359808   \n",
      "_________________________________________________________________\n",
      "block4_conv4 (Conv2D)        (None, 28, 28, 512)       2359808   \n",
      "_________________________________________________________________\n",
      "block4_pool (MaxPooling2D)   (None, 14, 14, 512)       0         \n",
      "_________________________________________________________________\n",
      "block5_conv1 (Conv2D)        (None, 14, 14, 512)       2359808   \n",
      "_________________________________________________________________\n",
      "block5_conv2 (Conv2D)        (None, 14, 14, 512)       2359808   \n",
      "_________________________________________________________________\n",
      "block5_conv3 (Conv2D)        (None, 14, 14, 512)       2359808   \n",
      "_________________________________________________________________\n",
      "block5_conv4 (Conv2D)        (None, 14, 14, 512)       2359808   \n",
      "_________________________________________________________________\n",
      "block5_pool (MaxPooling2D)   (None, 7, 7, 512)         0         \n",
      "_________________________________________________________________\n",
      "flatten (Flatten)            (None, 25088)             0         \n",
      "_________________________________________________________________\n",
      "dense (Dense)                (None, 2)                 50178     \n",
      "=================================================================\n",
      "Total params: 20,074,562\n",
      "Trainable params: 50,178\n",
      "Non-trainable params: 20,024,384\n",
      "_________________________________________________________________\n"
     ]
    }
   ],
   "source": [
    "\n",
    "# view the structure of the model\n",
    "model.summary()\n"
   ]
  },
  {
   "cell_type": "code",
   "execution_count": 10,
   "metadata": {},
   "outputs": [],
   "source": [
    "# tell the model what cost and optimization method to use\n",
    "model.compile(\n",
    "  loss='categorical_crossentropy',\n",
    "  optimizer='adam',\n",
    "  metrics=['accuracy']\n",
    ")\n"
   ]
  },
  {
   "cell_type": "code",
   "execution_count": 11,
   "metadata": {},
   "outputs": [],
   "source": [
    "# Use the Image Data Generator to import the images from the dataset\n",
    "from tensorflow.keras.preprocessing.image import ImageDataGenerator\n",
    "\n",
    "train_datagen = ImageDataGenerator(rescale = 1./255,\n",
    "                                   shear_range = 0.2,\n",
    "                                   zoom_range = 0.2,\n",
    "                                   horizontal_flip = True)\n",
    "\n",
    "test_datagen = ImageDataGenerator(rescale = 1./255)"
   ]
  },
  {
   "cell_type": "code",
   "execution_count": 13,
   "metadata": {},
   "outputs": [
    {
     "name": "stdout",
     "output_type": "stream",
     "text": [
      "Found 416 images belonging to 2 classes.\n"
     ]
    }
   ],
   "source": [
    "# Make sure you provide the same target size as initialied for the image size\n",
    "training_set = train_datagen.flow_from_directory('Dataset/Dataset/Train',\n",
    "                                                 target_size = (224, 224),\n",
    "                                                 batch_size = 32,\n",
    "                                                 class_mode = 'categorical')"
   ]
  },
  {
   "cell_type": "code",
   "execution_count": 14,
   "metadata": {},
   "outputs": [
    {
     "data": {
      "text/plain": [
       "<tensorflow.python.keras.preprocessing.image.DirectoryIterator at 0x1a1bed4bb50>"
      ]
     },
     "execution_count": 14,
     "metadata": {},
     "output_type": "execute_result"
    }
   ],
   "source": [
    "training_set"
   ]
  },
  {
   "cell_type": "code",
   "execution_count": 15,
   "metadata": {},
   "outputs": [
    {
     "name": "stdout",
     "output_type": "stream",
     "text": [
      "Found 134 images belonging to 2 classes.\n"
     ]
    }
   ],
   "source": [
    "test_set = test_datagen.flow_from_directory('Dataset/Dataset/Test',\n",
    "                                            target_size = (224, 224),\n",
    "                                            batch_size = 32,\n",
    "                                            class_mode = 'categorical')"
   ]
  },
  {
   "cell_type": "code",
   "execution_count": 17,
   "metadata": {
    "scrolled": true
   },
   "outputs": [
    {
     "name": "stderr",
     "output_type": "stream",
     "text": [
      "C:\\Users\\Thrinesh Duvvuru\\anaconda3\\lib\\site-packages\\tensorflow\\python\\keras\\engine\\training.py:1844: UserWarning: `Model.fit_generator` is deprecated and will be removed in a future version. Please use `Model.fit`, which supports generators.\n",
      "  warnings.warn('`Model.fit_generator` is deprecated and '\n"
     ]
    },
    {
     "name": "stdout",
     "output_type": "stream",
     "text": [
      "Epoch 1/50\n",
      "13/13 [==============================] - 303s 23s/step - loss: 2.2338 - accuracy: 0.4694 - val_loss: 0.8415 - val_accuracy: 0.4254\n",
      "Epoch 2/50\n",
      "13/13 [==============================] - 293s 23s/step - loss: 0.9990 - accuracy: 0.5959 - val_loss: 0.9789 - val_accuracy: 0.6791\n",
      "Epoch 3/50\n",
      "13/13 [==============================] - 316s 25s/step - loss: 0.8785 - accuracy: 0.5997 - val_loss: 0.8757 - val_accuracy: 0.6791\n",
      "Epoch 4/50\n",
      "13/13 [==============================] - 293s 23s/step - loss: 0.6473 - accuracy: 0.7208 - val_loss: 0.4688 - val_accuracy: 0.6940\n",
      "Epoch 5/50\n",
      "13/13 [==============================] - 822s 67s/step - loss: 0.3432 - accuracy: 0.8446 - val_loss: 0.4944 - val_accuracy: 0.7687\n",
      "Epoch 6/50\n",
      "13/13 [==============================] - 253s 20s/step - loss: 0.3560 - accuracy: 0.8336 - val_loss: 0.5107 - val_accuracy: 0.7537\n",
      "Epoch 7/50\n",
      "13/13 [==============================] - 294s 23s/step - loss: 0.2695 - accuracy: 0.8907 - val_loss: 0.3766 - val_accuracy: 0.8209\n",
      "Epoch 8/50\n",
      "13/13 [==============================] - 293s 23s/step - loss: 0.2584 - accuracy: 0.8911 - val_loss: 0.3592 - val_accuracy: 0.8582\n",
      "Epoch 9/50\n",
      "13/13 [==============================] - 295s 23s/step - loss: 0.2477 - accuracy: 0.9304 - val_loss: 0.3473 - val_accuracy: 0.8881\n",
      "Epoch 10/50\n",
      "13/13 [==============================] - 301s 24s/step - loss: 0.2373 - accuracy: 0.9164 - val_loss: 0.3307 - val_accuracy: 0.8582\n",
      "Epoch 11/50\n",
      "13/13 [==============================] - 191s 14s/step - loss: 0.2387 - accuracy: 0.9148 - val_loss: 0.3499 - val_accuracy: 0.8433\n",
      "Epoch 12/50\n",
      "13/13 [==============================] - 195s 15s/step - loss: 0.2054 - accuracy: 0.9364 - val_loss: 0.3565 - val_accuracy: 0.8284\n",
      "Epoch 13/50\n",
      "13/13 [==============================] - 201s 16s/step - loss: 0.2275 - accuracy: 0.9240 - val_loss: 0.3073 - val_accuracy: 0.9104\n",
      "Epoch 14/50\n",
      "13/13 [==============================] - 200s 16s/step - loss: 0.1968 - accuracy: 0.9507 - val_loss: 0.5039 - val_accuracy: 0.7239\n",
      "Epoch 15/50\n",
      "13/13 [==============================] - 202s 16s/step - loss: 0.2270 - accuracy: 0.9080 - val_loss: 0.2989 - val_accuracy: 0.8806\n",
      "Epoch 16/50\n",
      "13/13 [==============================] - 202s 16s/step - loss: 0.1924 - accuracy: 0.9493 - val_loss: 0.3050 - val_accuracy: 0.8955\n",
      "Epoch 17/50\n",
      "13/13 [==============================] - 203s 16s/step - loss: 0.1778 - accuracy: 0.9423 - val_loss: 0.4661 - val_accuracy: 0.7463\n",
      "Epoch 18/50\n",
      "13/13 [==============================] - 205s 16s/step - loss: 0.1979 - accuracy: 0.9318 - val_loss: 0.2914 - val_accuracy: 0.9179\n",
      "Epoch 19/50\n",
      "13/13 [==============================] - 204s 16s/step - loss: 0.1557 - accuracy: 0.9553 - val_loss: 0.2792 - val_accuracy: 0.8881\n",
      "Epoch 20/50\n",
      "13/13 [==============================] - 207s 16s/step - loss: 0.1551 - accuracy: 0.9475 - val_loss: 0.3881 - val_accuracy: 0.7836\n",
      "Epoch 21/50\n",
      "13/13 [==============================] - 208s 16s/step - loss: 0.1903 - accuracy: 0.9492 - val_loss: 0.3123 - val_accuracy: 0.8582\n",
      "Epoch 22/50\n",
      "13/13 [==============================] - 205s 16s/step - loss: 0.1550 - accuracy: 0.9553 - val_loss: 0.3451 - val_accuracy: 0.7910\n",
      "Epoch 23/50\n",
      "13/13 [==============================] - 206s 16s/step - loss: 0.1623 - accuracy: 0.9493 - val_loss: 0.2388 - val_accuracy: 0.9179\n",
      "Epoch 24/50\n",
      "13/13 [==============================] - 209s 16s/step - loss: 0.1528 - accuracy: 0.9458 - val_loss: 0.4360 - val_accuracy: 0.7388\n",
      "Epoch 25/50\n",
      "13/13 [==============================] - 205s 16s/step - loss: 0.1799 - accuracy: 0.9392 - val_loss: 0.2505 - val_accuracy: 0.9254\n",
      "Epoch 26/50\n",
      "13/13 [==============================] - 210s 16s/step - loss: 0.1760 - accuracy: 0.9467 - val_loss: 0.3171 - val_accuracy: 0.8507\n",
      "Epoch 27/50\n",
      "13/13 [==============================] - 220s 17s/step - loss: 0.1251 - accuracy: 0.9645 - val_loss: 0.5708 - val_accuracy: 0.7239\n",
      "Epoch 28/50\n",
      "13/13 [==============================] - 213s 17s/step - loss: 0.1740 - accuracy: 0.9287 - val_loss: 0.2451 - val_accuracy: 0.9104\n",
      "Epoch 29/50\n",
      "13/13 [==============================] - 209s 16s/step - loss: 0.1341 - accuracy: 0.9624 - val_loss: 0.2196 - val_accuracy: 0.9403\n",
      "Epoch 30/50\n",
      "13/13 [==============================] - 210s 17s/step - loss: 0.1103 - accuracy: 0.9655 - val_loss: 0.4248 - val_accuracy: 0.7687\n",
      "Epoch 31/50\n",
      "13/13 [==============================] - 211s 16s/step - loss: 0.1539 - accuracy: 0.9490 - val_loss: 0.2203 - val_accuracy: 0.9403\n",
      "Epoch 32/50\n",
      "13/13 [==============================] - 211s 17s/step - loss: 0.0935 - accuracy: 0.9805 - val_loss: 0.2085 - val_accuracy: 0.9328\n",
      "Epoch 33/50\n",
      "13/13 [==============================] - 208s 16s/step - loss: 0.1079 - accuracy: 0.9695 - val_loss: 0.2586 - val_accuracy: 0.8806\n",
      "Epoch 34/50\n",
      "13/13 [==============================] - 211s 17s/step - loss: 0.1074 - accuracy: 0.9718 - val_loss: 0.2649 - val_accuracy: 0.8731\n",
      "Epoch 35/50\n",
      "13/13 [==============================] - 210s 16s/step - loss: 0.1039 - accuracy: 0.9650 - val_loss: 0.2164 - val_accuracy: 0.9328\n",
      "Epoch 36/50\n",
      "13/13 [==============================] - 211s 16s/step - loss: 0.1061 - accuracy: 0.9789 - val_loss: 0.2259 - val_accuracy: 0.9254\n",
      "Epoch 37/50\n",
      "13/13 [==============================] - 210s 16s/step - loss: 0.0834 - accuracy: 0.9844 - val_loss: 0.2745 - val_accuracy: 0.8731\n",
      "Epoch 38/50\n",
      "13/13 [==============================] - 206s 16s/step - loss: 0.0972 - accuracy: 0.9752 - val_loss: 0.2500 - val_accuracy: 0.8881\n",
      "Epoch 39/50\n",
      "13/13 [==============================] - 211s 17s/step - loss: 0.0927 - accuracy: 0.9735 - val_loss: 0.3141 - val_accuracy: 0.8358\n",
      "Epoch 40/50\n",
      "13/13 [==============================] - 209s 16s/step - loss: 0.1074 - accuracy: 0.9687 - val_loss: 0.3529 - val_accuracy: 0.8060\n",
      "Epoch 41/50\n",
      "13/13 [==============================] - 208s 16s/step - loss: 0.0970 - accuracy: 0.9801 - val_loss: 0.1958 - val_accuracy: 0.9403\n",
      "Epoch 42/50\n",
      "13/13 [==============================] - 207s 16s/step - loss: 0.1240 - accuracy: 0.9695 - val_loss: 0.2991 - val_accuracy: 0.8433\n",
      "Epoch 43/50\n",
      "13/13 [==============================] - 204s 16s/step - loss: 0.0874 - accuracy: 0.9739 - val_loss: 0.2486 - val_accuracy: 0.8955\n",
      "Epoch 44/50\n",
      "13/13 [==============================] - 207s 16s/step - loss: 0.0848 - accuracy: 0.9792 - val_loss: 0.2745 - val_accuracy: 0.8582\n",
      "Epoch 45/50\n",
      "13/13 [==============================] - 205s 16s/step - loss: 0.0810 - accuracy: 0.9776 - val_loss: 0.2855 - val_accuracy: 0.8657\n",
      "Epoch 46/50\n",
      "13/13 [==============================] - 207s 16s/step - loss: 0.1001 - accuracy: 0.9725 - val_loss: 0.2323 - val_accuracy: 0.8955\n",
      "Epoch 47/50\n",
      "13/13 [==============================] - 262s 21s/step - loss: 0.0741 - accuracy: 0.9759 - val_loss: 0.2824 - val_accuracy: 0.8657\n",
      "Epoch 48/50\n",
      "13/13 [==============================] - 294s 23s/step - loss: 0.0945 - accuracy: 0.9726 - val_loss: 0.3117 - val_accuracy: 0.8433\n",
      "Epoch 49/50\n",
      "13/13 [==============================] - 292s 23s/step - loss: 0.0803 - accuracy: 0.9776 - val_loss: 0.1867 - val_accuracy: 0.9328\n",
      "Epoch 50/50\n",
      "13/13 [==============================] - 293s 23s/step - loss: 0.0970 - accuracy: 0.9673 - val_loss: 0.2403 - val_accuracy: 0.8955\n"
     ]
    }
   ],
   "source": [
    "# fit the model\n",
    "# Run the cell. It will take some time to execute\n",
    "r = model.fit_generator(\n",
    "  training_set,\n",
    "  validation_data=test_set,\n",
    "  epochs=50,\n",
    "  steps_per_epoch=len(training_set),\n",
    "  validation_steps=len(test_set)\n",
    ")"
   ]
  },
  {
   "cell_type": "code",
   "execution_count": null,
   "metadata": {},
   "outputs": [],
   "source": []
  },
  {
   "cell_type": "code",
   "execution_count": 18,
   "metadata": {},
   "outputs": [
    {
     "data": {
      "image/png": "[encoded data removed]",
      "text/plain": [
       "<Figure size 432x288 with 1 Axes>"
      ]
     },
     "metadata": {
      "needs_background": "light"
     },
     "output_type": "display_data"
    },
    {
     "data": {
      "image/png": "[encoded data removed]",
      "text/plain": [
       "<Figure size 432x288 with 1 Axes>"
      ]
     },
     "metadata": {
      "needs_background": "light"
     },
     "output_type": "display_data"
    },
    {
     "data": {
      "text/plain": [
       "<Figure size 432x288 with 0 Axes>"
      ]
     },
     "metadata": {},
     "output_type": "display_data"
    }
   ],
   "source": [
    "# plot the loss\n",
    "plt.plot(r.history['loss'], label='train loss')\n",
    "plt.plot(r.history['val_loss'], label='val loss')\n",
    "plt.legend()\n",
    "plt.show()\n",
    "plt.savefig('LossVal_loss')\n",
    "\n",
    "# plot the accuracy\n",
    "plt.plot(r.history['accuracy'], label='train acc')\n",
    "plt.plot(r.history['val_accuracy'], label='val acc')\n",
    "plt.legend()\n",
    "plt.show()\n",
    "plt.savefig('AccVal_acc')"
   ]
  },
  {
   "cell_type": "code",
   "execution_count": 19,
   "metadata": {},
   "outputs": [],
   "source": [
    "# save it as a h5 file\n",
    "\n",
    "\n",
    "from tensorflow.keras.models import load_model\n",
    "\n",
    "model.save('model_vgg19.h5')"
   ]
  },
  {
   "cell_type": "code",
   "execution_count": null,
   "metadata": {},
   "outputs": [],
   "source": []
  },
  {
   "cell_type": "code",
   "execution_count": 20,
   "metadata": {},
   "outputs": [],
   "source": [
    "\n",
    "y_pred = model.predict(test_set)\n"
   ]
  },
  {
   "cell_type": "code",
   "execution_count": 21,
   "metadata": {},
   "outputs": [
    {
     "data": {
      "text/plain": [
       "array([[9.99707520e-01, 2.92492565e-04],\n",
       "       [6.77983820e-01, 3.22016150e-01],\n",
       "       [9.99647021e-01, 3.53020529e-04],\n",
       "       [9.99651313e-01, 3.48629663e-04],\n",
       "       [5.05504370e-01, 4.94495630e-01],\n",
       "       [6.42026141e-02, 9.35797453e-01],\n",
       "       [4.97123189e-02, 9.50287640e-01],\n",
       "       [9.99975562e-01, 2.44382154e-05],\n",
       "       [9.99440491e-01, 5.59549546e-04],\n",
       "       [1.25100417e-02, 9.87489998e-01],\n",
       "       [8.62899363e-01, 1.37100637e-01],\n",
       "       [3.70362431e-01, 6.29637539e-01],\n",
       "       [9.99987006e-01, 1.29382179e-05],\n",
       "       [9.90029037e-01, 9.97092389e-03],\n",
       "       [1.84801277e-02, 9.81519938e-01],\n",
       "       [3.48327607e-02, 9.65167224e-01],\n",
       "       [9.99490857e-01, 5.09119127e-04],\n",
       "       [7.03937262e-02, 9.29606259e-01],\n",
       "       [9.96253729e-01, 3.74628906e-03],\n",
       "       [1.30421475e-01, 8.69578481e-01],\n",
       "       [9.99984980e-01, 1.50409487e-05],\n",
       "       [3.38550135e-02, 9.66144979e-01],\n",
       "       [9.71788406e-01, 2.82115992e-02],\n",
       "       [5.33275232e-02, 9.46672499e-01],\n",
       "       [4.58221078e-01, 5.41778862e-01],\n",
       "       [1.97925225e-01, 8.02074790e-01],\n",
       "       [9.66975272e-01, 3.30247097e-02],\n",
       "       [7.48795271e-01, 2.51204699e-01],\n",
       "       [9.52134848e-01, 4.78651375e-02],\n",
       "       [9.98739898e-01, 1.26009912e-03],\n",
       "       [9.99997973e-01, 2.02933484e-06],\n",
       "       [4.63474914e-02, 9.53652501e-01],\n",
       "       [8.07420835e-02, 9.19257879e-01],\n",
       "       [9.98615861e-01, 1.38417026e-03],\n",
       "       [1.39966225e-02, 9.86003339e-01],\n",
       "       [9.74551737e-01, 2.54482422e-02],\n",
       "       [4.99304652e-01, 5.00695288e-01],\n",
       "       [2.01267842e-02, 9.79873180e-01],\n",
       "       [2.04679921e-01, 7.95320034e-01],\n",
       "       [9.97709513e-01, 2.29044189e-03],\n",
       "       [9.99298930e-01, 7.01044046e-04],\n",
       "       [9.92736936e-01, 7.26314308e-03],\n",
       "       [5.00294268e-01, 4.99705672e-01],\n",
       "       [1.70431912e-01, 8.29568088e-01],\n",
       "       [4.52634655e-02, 9.54736471e-01],\n",
       "       [5.64237475e-01, 4.35762465e-01],\n",
       "       [1.37312591e-01, 8.62687349e-01],\n",
       "       [5.14518559e-01, 4.85481471e-01],\n",
       "       [9.40296426e-02, 9.05970395e-01],\n",
       "       [9.99658823e-01, 3.41126521e-04],\n",
       "       [2.98902035e-01, 7.01097965e-01],\n",
       "       [8.86724770e-01, 1.13275185e-01],\n",
       "       [4.96700734e-01, 5.03299296e-01],\n",
       "       [9.82414067e-01, 1.75859015e-02],\n",
       "       [9.99861836e-01, 1.38127711e-04],\n",
       "       [2.49456808e-01, 7.50543177e-01],\n",
       "       [2.30914336e-02, 9.76908505e-01],\n",
       "       [9.55161989e-01, 4.48380485e-02],\n",
       "       [3.30647863e-02, 9.66935217e-01],\n",
       "       [7.17714131e-02, 9.28228617e-01],\n",
       "       [9.99986053e-01, 1.39364583e-05],\n",
       "       [6.01332724e-01, 3.98667365e-01],\n",
       "       [9.41392124e-01, 5.86078316e-02],\n",
       "       [7.60066092e-01, 2.39933923e-01],\n",
       "       [9.99365509e-01, 6.34528405e-04],\n",
       "       [9.99139428e-01, 8.60491709e-04],\n",
       "       [9.98816609e-01, 1.18336768e-03],\n",
       "       [9.77017045e-01, 2.29829215e-02],\n",
       "       [3.28240283e-02, 9.67175961e-01],\n",
       "       [9.99954343e-01, 4.56102389e-05],\n",
       "       [8.25433135e-01, 1.74566880e-01],\n",
       "       [9.99963403e-01, 3.66308741e-05],\n",
       "       [3.89337569e-01, 6.10662401e-01],\n",
       "       [9.97867703e-01, 2.13231845e-03],\n",
       "       [2.68198829e-02, 9.73180115e-01],\n",
       "       [2.39839345e-01, 7.60160625e-01],\n",
       "       [7.51116991e-01, 2.48883069e-01],\n",
       "       [9.99038219e-01, 9.61812504e-04],\n",
       "       [9.85220432e-01, 1.47795742e-02],\n",
       "       [5.15343249e-01, 4.84656751e-01],\n",
       "       [9.94426966e-01, 5.57300495e-03],\n",
       "       [3.02428231e-02, 9.69757140e-01],\n",
       "       [8.42879713e-01, 1.57120243e-01],\n",
       "       [9.95150924e-01, 4.84904135e-03],\n",
       "       [2.57434510e-02, 9.74256516e-01],\n",
       "       [6.72560692e-01, 3.27439308e-01],\n",
       "       [9.99999762e-01, 1.99964447e-07],\n",
       "       [9.95544612e-01, 4.45539644e-03],\n",
       "       [8.22540998e-01, 1.77458957e-01],\n",
       "       [6.72407746e-01, 3.27592254e-01],\n",
       "       [8.42661798e-01, 1.57338232e-01],\n",
       "       [9.98422623e-01, 1.57737930e-03],\n",
       "       [6.82781450e-03, 9.93172169e-01],\n",
       "       [9.15717602e-01, 8.42823535e-02],\n",
       "       [9.99277174e-01, 7.22811557e-04],\n",
       "       [3.17421615e-01, 6.82578325e-01],\n",
       "       [6.07533306e-02, 9.39246655e-01],\n",
       "       [9.17586088e-01, 8.24139267e-02],\n",
       "       [8.20668340e-02, 9.17933106e-01],\n",
       "       [8.30359221e-01, 1.69640720e-01],\n",
       "       [9.42498446e-03, 9.90575016e-01],\n",
       "       [7.81186283e-01, 2.18813762e-01],\n",
       "       [2.67884880e-01, 7.32115149e-01],\n",
       "       [1.45036593e-01, 8.54963362e-01],\n",
       "       [4.91637923e-02, 9.50836241e-01],\n",
       "       [6.81650639e-01, 3.18349332e-01],\n",
       "       [8.41115236e-01, 1.58884764e-01],\n",
       "       [8.37689862e-02, 9.16231036e-01],\n",
       "       [7.46779442e-01, 2.53220588e-01],\n",
       "       [9.98276353e-01, 1.72363431e-03],\n",
       "       [9.99733627e-01, 2.66302872e-04],\n",
       "       [9.99579370e-01, 4.20647993e-04],\n",
       "       [9.68090057e-01, 3.19099389e-02],\n",
       "       [6.57470465e-01, 3.42529505e-01],\n",
       "       [1.00000000e+00, 3.22193046e-08],\n",
       "       [2.22904775e-02, 9.77709532e-01],\n",
       "       [9.47994471e-01, 5.20054996e-02],\n",
       "       [2.58609336e-02, 9.74139094e-01],\n",
       "       [2.30837628e-01, 7.69162357e-01],\n",
       "       [8.28855991e-01, 1.71143934e-01],\n",
       "       [2.83604171e-02, 9.71639633e-01],\n",
       "       [9.94647801e-01, 5.35222469e-03],\n",
       "       [2.48987317e-01, 7.51012683e-01],\n",
       "       [9.99411464e-01, 5.88601804e-04],\n",
       "       [1.08486168e-01, 8.91513765e-01],\n",
       "       [2.25123540e-02, 9.77487624e-01],\n",
       "       [9.89998758e-01, 1.00012310e-02],\n",
       "       [9.99955416e-01, 4.45823753e-05],\n",
       "       [3.43486667e-02, 9.65651274e-01],\n",
       "       [6.71645328e-02, 9.32835460e-01],\n",
       "       [1.70143545e-02, 9.82985675e-01],\n",
       "       [9.13285434e-01, 8.67146030e-02],\n",
       "       [7.93609247e-02, 9.20639038e-01],\n",
       "       [4.24835980e-02, 9.57516432e-01]], dtype=float32)"
      ]
     },
     "execution_count": 21,
     "metadata": {},
     "output_type": "execute_result"
    }
   ],
   "source": [
    "y_pred"
   ]
  },
  {
   "cell_type": "code",
   "execution_count": 22,
   "metadata": {},
   "outputs": [],
   "source": [
    "import numpy as np\n",
    "y_pred = np.argmax(y_pred, axis=1)"
   ]
  },
  {
   "cell_type": "code",
   "execution_count": 23,
   "metadata": {},
   "outputs": [
    {
     "data": {
      "text/plain": [
       "array([0, 0, 0, 0, 0, 1, 1, 0, 0, 1, 0, 1, 0, 0, 1, 1, 0, 1, 0, 1, 0, 1,\n",
       "       0, 1, 1, 1, 0, 0, 0, 0, 0, 1, 1, 0, 1, 0, 1, 1, 1, 0, 0, 0, 0, 1,\n",
       "       1, 0, 1, 0, 1, 0, 1, 0, 1, 0, 0, 1, 1, 0, 1, 1, 0, 0, 0, 0, 0, 0,\n",
       "       0, 0, 1, 0, 0, 0, 1, 0, 1, 1, 0, 0, 0, 0, 0, 1, 0, 0, 1, 0, 0, 0,\n",
       "       0, 0, 0, 0, 1, 0, 0, 1, 1, 0, 1, 0, 1, 0, 1, 1, 1, 0, 0, 1, 0, 0,\n",
       "       0, 0, 0, 0, 0, 1, 0, 1, 1, 0, 1, 0, 1, 0, 1, 1, 0, 0, 1, 1, 1, 0,\n",
       "       1, 1], dtype=int64)"
      ]
     },
     "execution_count": 23,
     "metadata": {},
     "output_type": "execute_result"
    }
   ],
   "source": [
    "y_pred"
   ]
  },
  {
   "cell_type": "code",
   "execution_count": null,
   "metadata": {},
   "outputs": [],
   "source": []
  },
  {
   "cell_type": "code",
   "execution_count": 24,
   "metadata": {},
   "outputs": [],
   "source": [
    "from tensorflow.keras.models import load_model\n",
    "from tensorflow.keras.preprocessing import image"
   ]
  },
  {
   "cell_type": "code",
   "execution_count": 25,
   "metadata": {},
   "outputs": [],
   "source": [
    "model=load_model('model_vgg19.h5')"
   ]
  },
  {
   "cell_type": "code",
   "execution_count": null,
   "metadata": {},
   "outputs": [],
   "source": []
  },
  {
   "cell_type": "code",
   "execution_count": 26,
   "metadata": {},
   "outputs": [],
   "source": [
    "img=image.load_img('Dataset/Dataset/Test/Uninfected/2.png',target_size=(224,224))\n",
    "\n"
   ]
  },
  {
   "cell_type": "code",
   "execution_count": 27,
   "metadata": {},
   "outputs": [
    {
     "data": {
      "text/plain": [
       "array([[[0., 0., 0.],\n",
       "        [0., 0., 0.],\n",
       "        [0., 0., 0.],\n",
       "        ...,\n",
       "        [0., 0., 0.],\n",
       "        [0., 0., 0.],\n",
       "        [0., 0., 0.]],\n",
       "\n",
       "       [[0., 0., 0.],\n",
       "        [0., 0., 0.],\n",
       "        [0., 0., 0.],\n",
       "        ...,\n",
       "        [0., 0., 0.],\n",
       "        [0., 0., 0.],\n",
       "        [0., 0., 0.]],\n",
       "\n",
       "       [[0., 0., 0.],\n",
       "        [0., 0., 0.],\n",
       "        [0., 0., 0.],\n",
       "        ...,\n",
       "        [0., 0., 0.],\n",
       "        [0., 0., 0.],\n",
       "        [0., 0., 0.]],\n",
       "\n",
       "       ...,\n",
       "\n",
       "       [[0., 0., 0.],\n",
       "        [0., 0., 0.],\n",
       "        [0., 0., 0.],\n",
       "        ...,\n",
       "        [0., 0., 0.],\n",
       "        [0., 0., 0.],\n",
       "        [0., 0., 0.]],\n",
       "\n",
       "       [[0., 0., 0.],\n",
       "        [0., 0., 0.],\n",
       "        [0., 0., 0.],\n",
       "        ...,\n",
       "        [0., 0., 0.],\n",
       "        [0., 0., 0.],\n",
       "        [0., 0., 0.]],\n",
       "\n",
       "       [[0., 0., 0.],\n",
       "        [0., 0., 0.],\n",
       "        [0., 0., 0.],\n",
       "        ...,\n",
       "        [0., 0., 0.],\n",
       "        [0., 0., 0.],\n",
       "        [0., 0., 0.]]], dtype=float32)"
      ]
     },
     "execution_count": 27,
     "metadata": {},
     "output_type": "execute_result"
    }
   ],
   "source": [
    "x=image.img_to_array(img)\n",
    "x"
   ]
  },
  {
   "cell_type": "code",
   "execution_count": 28,
   "metadata": {},
   "outputs": [
    {
     "data": {
      "text/plain": [
       "(224, 224, 3)"
      ]
     },
     "execution_count": 28,
     "metadata": {},
     "output_type": "execute_result"
    }
   ],
   "source": [
    "x.shape"
   ]
  },
  {
   "cell_type": "code",
   "execution_count": 29,
   "metadata": {},
   "outputs": [],
   "source": [
    "x=x/255"
   ]
  },
  {
   "cell_type": "code",
   "execution_count": 30,
   "metadata": {},
   "outputs": [
    {
     "data": {
      "text/plain": [
       "(1, 224, 224, 3)"
      ]
     },
     "execution_count": 30,
     "metadata": {},
     "output_type": "execute_result"
    }
   ],
   "source": [
    "x=np.expand_dims(x,axis=0)\n",
    "img_data=preprocess_input(x)\n",
    "img_data.shape"
   ]
  },
  {
   "cell_type": "code",
   "execution_count": 31,
   "metadata": {},
   "outputs": [
    {
     "data": {
      "text/plain": [
       "array([[8.021421e-06, 9.999920e-01]], dtype=float32)"
      ]
     },
     "execution_count": 31,
     "metadata": {},
     "output_type": "execute_result"
    }
   ],
   "source": [
    "model.predict(img_data)"
   ]
  },
  {
   "cell_type": "code",
   "execution_count": 32,
   "metadata": {},
   "outputs": [],
   "source": [
    "a=np.argmax(model.predict(img_data), axis=1)"
   ]
  },
  {
   "cell_type": "code",
   "execution_count": 33,
   "metadata": {},
   "outputs": [
    {
     "name": "stdout",
     "output_type": "stream",
     "text": [
      "Uninfected\n"
     ]
    }
   ],
   "source": [
    "if(a==1):\n",
    "    print(\"Uninfected\")\n",
    "else:\n",
    "    print(\"Infected\")"
   ]
  },
  {
   "cell_type": "code",
   "execution_count": null,
   "metadata": {},
   "outputs": [],
   "source": []
  },
  {
   "cell_type": "code",
   "execution_count": null,
   "metadata": {},
   "outputs": [],
   "source": []
  }
 ],
 "metadata": {
  "kernelspec": {
   "display_name": "Python 3",
   "language": "python",
   "name": "python3"
  },
  "language_info": {
   "codemirror_mode": {
    "name": "ipython",
    "version": 3
   },
   "file_extension": ".py",
   "mimetype": "text/x-python",
   "name": "python",
   "nbconvert_exporter": "python",
   "pygments_lexer": "ipython3",
   "version": "3.8.5"
  }
 },
 "nbformat": 4,
 "nbformat_minor": 2
}
